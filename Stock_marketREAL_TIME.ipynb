{
  "cells": [
    {
      "cell_type": "markdown",
      "metadata": {
        "id": "FXNzLrFvVoAN"
      },
      "source": [
        "The Following Script will show Real-TIME stock market prices of shares, in both NSE and BSE markets."
      ]
    },
    {
      "cell_type": "markdown",
      "metadata": {
        "id": "rVMWMr2WV3hO"
      },
      "source": [
        "The script will:\n",
        "\n",
        "Fetch real-time stock prices from Google Finance. ONLY NSE\n",
        "\n",
        "Display the prices continuously at a set interval (your choice)"
      ]
    },
    {
      "cell_type": "markdown",
      "metadata": {
        "id": "Ro3RqAFBWX9-"
      },
      "source": [
        "Mention the Correct Quote of the Desired Share from here:-\n",
        "https://www.google.com/finance/?hl=en"
      ]
    },
    {
      "cell_type": "code",
      "execution_count": 3,
      "metadata": {
        "colab": {
          "base_uri": "https://localhost:8080/",
          "height": 384
        },
        "id": "ofuKTEnjWizo",
        "outputId": "798a0853-e579-42ce-fcd2-56e16b42efab"
      },
      "outputs": [
        {
          "output_type": "stream",
          "name": "stdout",
          "text": [
            "Enter the stock name: NAHARPOLY\n",
            "Fetching price for NAHARPOLY on NSE...\n",
            "NSE: ₹290.84\n",
            "Fetching price for NAHARPOLY on NSE...\n",
            "NSE: ₹290.84\n"
          ]
        },
        {
          "output_type": "error",
          "ename": "KeyboardInterrupt",
          "evalue": "",
          "traceback": [
            "\u001b[0;31m---------------------------------------------------------------------------\u001b[0m",
            "\u001b[0;31mKeyboardInterrupt\u001b[0m                         Traceback (most recent call last)",
            "\u001b[0;32m<ipython-input-3-b85005a431e3>\u001b[0m in \u001b[0;36m<cell line: 46>\u001b[0;34m()\u001b[0m\n\u001b[1;32m     44\u001b[0m \u001b[0;31m# Entry point for the script\u001b[0m\u001b[0;34m\u001b[0m\u001b[0;34m\u001b[0m\u001b[0m\n\u001b[1;32m     45\u001b[0m \u001b[0mstock_name\u001b[0m \u001b[0;34m=\u001b[0m \u001b[0minput\u001b[0m\u001b[0;34m(\u001b[0m\u001b[0;34m\"Enter the stock name: \"\u001b[0m\u001b[0;34m)\u001b[0m\u001b[0;34m.\u001b[0m\u001b[0mupper\u001b[0m\u001b[0;34m(\u001b[0m\u001b[0;34m)\u001b[0m\u001b[0;34m\u001b[0m\u001b[0;34m\u001b[0m\u001b[0m\n\u001b[0;32m---> 46\u001b[0;31m \u001b[0mfetch_prices_continuously\u001b[0m\u001b[0;34m(\u001b[0m\u001b[0mstock_name\u001b[0m\u001b[0;34m)\u001b[0m\u001b[0;34m\u001b[0m\u001b[0;34m\u001b[0m\u001b[0m\n\u001b[0m",
            "\u001b[0;32m<ipython-input-3-b85005a431e3>\u001b[0m in \u001b[0;36mfetch_prices_continuously\u001b[0;34m(stock_name)\u001b[0m\n\u001b[1;32m     40\u001b[0m         \u001b[0;32melse\u001b[0m\u001b[0;34m:\u001b[0m\u001b[0;34m\u001b[0m\u001b[0;34m\u001b[0m\u001b[0m\n\u001b[1;32m     41\u001b[0m             \u001b[0mprint\u001b[0m\u001b[0;34m(\u001b[0m\u001b[0;34mf\"Error fetching stock price from NSE\"\u001b[0m\u001b[0;34m)\u001b[0m\u001b[0;34m\u001b[0m\u001b[0;34m\u001b[0m\u001b[0m\n\u001b[0;32m---> 42\u001b[0;31m         \u001b[0mtime\u001b[0m\u001b[0;34m.\u001b[0m\u001b[0msleep\u001b[0m\u001b[0;34m(\u001b[0m\u001b[0;36m10\u001b[0m\u001b[0;34m)\u001b[0m  \u001b[0;31m# Fetches prices after every 10 seconds\u001b[0m\u001b[0;34m\u001b[0m\u001b[0;34m\u001b[0m\u001b[0m\n\u001b[0m\u001b[1;32m     43\u001b[0m \u001b[0;34m\u001b[0m\u001b[0m\n\u001b[1;32m     44\u001b[0m \u001b[0;31m# Entry point for the script\u001b[0m\u001b[0;34m\u001b[0m\u001b[0;34m\u001b[0m\u001b[0m\n",
            "\u001b[0;31mKeyboardInterrupt\u001b[0m: "
          ]
        }
      ],
      "source": [
        "import requests\n",
        "from bs4 import BeautifulSoup\n",
        "import time\n",
        "\n",
        "def get_stock_quote(symbol):\n",
        "    url = f'https://www.google.com/finance/quote/{symbol}:NSE'\n",
        "    response = requests.get(url)\n",
        "    if response.status_code == 200:\n",
        "        soup = BeautifulSoup(response.text, 'html.parser')\n",
        "\n",
        "        # Print the first 1000 characters of the HTML to inspect the structure\n",
        "        #print(f\"HTML structure for NSE:\\n\", soup.prettify()[:1000])\n",
        "\n",
        "        # Find the price element - update class name if needed\n",
        "        price_element = soup.find(class_='YMlKec fxKbKc')\n",
        "        if not price_element:\n",
        "            price_element = soup.find(class_='YMlKec')\n",
        "\n",
        "        if price_element:\n",
        "            price_text = price_element.text\n",
        "            try:\n",
        "                price = float(price_text.replace('₹', '').replace(',', ''))\n",
        "                return price\n",
        "            except ValueError as e:\n",
        "                print(f\"Error converting price to float for {symbol}:NSE: {e}\")\n",
        "                return None\n",
        "        else:\n",
        "            print(f\"Price element not found for {symbol}:NSE. Check the HTML structure.\")\n",
        "            return None\n",
        "    else:\n",
        "        print(f\"Error fetching URL: {url} with status code: {response.status_code}\")\n",
        "        return None\n",
        "\n",
        "def fetch_prices_continuously(stock_name):\n",
        "    while True:\n",
        "        print(f\"Fetching price for {stock_name} on NSE...\")\n",
        "        price = get_stock_quote(stock_name)\n",
        "        if price is not None:\n",
        "            print(f\"NSE: ₹{price}\")\n",
        "        else:\n",
        "            print(f\"Error fetching stock price from NSE\")\n",
        "        time.sleep(10)  # Fetches prices after every 10 seconds\n",
        "\n",
        "# Entry point for the script\n",
        "stock_name = input(\"Enter the stock name: \").upper()\n",
        "fetch_prices_continuously(stock_name)\n"
      ]
    }
  ],
  "metadata": {
    "colab": {
      "provenance": []
    },
    "kernelspec": {
      "display_name": "Python 3",
      "name": "python3"
    },
    "language_info": {
      "name": "python"
    }
  },
  "nbformat": 4,
  "nbformat_minor": 0
}